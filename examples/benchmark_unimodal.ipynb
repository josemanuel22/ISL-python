{
 "cells": [
  {
   "cell_type": "code",
   "execution_count": 28,
   "metadata": {},
   "outputs": [],
   "source": [
    "import sys\n",
    "import os\n",
    "\n",
    "__file__ = \"/Users/jmfrutos/github/ISL-python/ISL/examples\"\n",
    "sys.path.append(os.path.abspath(os.path.join(os.path.dirname(__file__), '..')))  # Add parent directory to path\n",
    "\n",
    "from isl import invariant_statistical_loss, auto_invariant_statistical_loss\n",
    "import torch\n",
    "import torch.nn as nn\n",
    "import torch.optim as optim\n",
    "import numpy as np\n",
    "from torch.distributions import Normal, Pareto\n",
    "from torch.utils.data import DataLoader, TensorDataset"
   ]
  },
  {
   "cell_type": "code",
   "execution_count": 29,
   "metadata": {},
   "outputs": [],
   "source": [
    "class Generator(nn.Module):\n",
    "    def __init__(self):\n",
    "        super(Generator, self).__init__()\n",
    "        self.model = nn.Sequential(\n",
    "            nn.Linear(1, 7),\n",
    "            nn.ELU(),\n",
    "            nn.Linear(7, 13),\n",
    "            nn.ELU(),\n",
    "            nn.Linear(13, 7),\n",
    "            nn.ELU(),\n",
    "            nn.Linear(7, 1)\n",
    "        )\n",
    "\n",
    "    def forward(self, x):\n",
    "        return self.model(x)"
   ]
  },
  {
   "cell_type": "code",
   "execution_count": 31,
   "metadata": {},
   "outputs": [],
   "source": [
    "noise_model = Normal(0.0, 1.0)  # Custom noise model required\n",
    "target_model = Normal(5.0, 2.0)  # Custom target model required\n",
    "gen = Generator()"
   ]
  },
  {
   "cell_type": "code",
   "execution_count": 32,
   "metadata": {},
   "outputs": [],
   "source": [
    "# Hyperparameters for Auto Invariant Statistical Loss\n",
    "hparams = {\n",
    "    'max_k': 10,\n",
    "    'samples': 1000,\n",
    "    'epochs': 1000,\n",
    "    'eta': 1e-2,\n",
    "    'transform': noise_model,\n",
    "    'K': 10\n",
    "}"
   ]
  },
  {
   "cell_type": "code",
   "execution_count": 33,
   "metadata": {},
   "outputs": [],
   "source": [
    "def sample_from_target_model(target_model, num_samples):\n",
    "    # Sample from the target_model here\n",
    "    # This is a placeholder for your actual implementation\n",
    "    # For example, if target_model is a normal distribution:\n",
    "    samples = torch.normal(5.0, 2.0, size=(num_samples, 1))\n",
    "    return samples"
   ]
  },
  {
   "cell_type": "code",
   "execution_count": 37,
   "metadata": {},
   "outputs": [
    {
     "name": "stdout",
     "output_type": "stream",
     "text": [
      "K value set to 2.\n"
     ]
    },
    {
     "name": "stderr",
     "output_type": "stream",
     "text": [
      " 22%|██▏       | 218/1000 [02:34<09:15,  1.41it/s]"
     ]
    },
    {
     "name": "stdout",
     "output_type": "stream",
     "text": [
      "K value set to 3.\n"
     ]
    },
    {
     "name": "stderr",
     "output_type": "stream",
     "text": [
      " 86%|████████▌ | 857/1000 [11:51<02:03,  1.16it/s]"
     ]
    },
    {
     "name": "stdout",
     "output_type": "stream",
     "text": [
      "K value set to 4.\n"
     ]
    },
    {
     "name": "stderr",
     "output_type": "stream",
     "text": [
      "100%|██████████| 1000/1000 [14:20<00:00,  1.16it/s]\n"
     ]
    }
   ],
   "source": [
    "# Generate the training dataset\n",
    "num_total_samples = hparams['samples'] * hparams['epochs']\n",
    "train_data = sample_from_target_model(target_model, num_total_samples)\n",
    "\n",
    "# Assuming the train_data is a 1D tensor, reshape it to 2D (num_samples, num_features) if necessary\n",
    "# If train_data is already 2D (num_samples, num_features), you can skip the reshaping\n",
    "#train_data = train_data.view(-1, 1)\n",
    "\n",
    "# Create a DataLoader\n",
    "# Note: In PyTorch, the DataLoader expects a dataset object, so we wrap our data in a TensorDataset\n",
    "#dataset = TensorDataset(train_data)  # Using train_data as both inputs and targets for simplicity\n",
    "loader = DataLoader(train_data, batch_size=hparams['samples'], shuffle=True)\n",
    "\n",
    "# Train the model\n",
    "# Assuming 'gen' is your model and 'auto_invariant_statistical_loss' is defined as per your previous messages\n",
    "#losses = invariant_statistical_loss(gen, loader, hparams)\n",
    "\n",
    "hparams = {\n",
    "    'max_k': 10,\n",
    "    'samples': 1000,\n",
    "    'epochs': 1000,\n",
    "    'eta': 1e-2,\n",
    "    'transform': noise_model,\n",
    "    'K': 10\n",
    "}\n",
    "\n",
    "losses = auto_invariant_statistical_loss(gen, loader, hparams)"
   ]
  },
  {
   "cell_type": "code",
   "execution_count": 39,
   "metadata": {},
   "outputs": [
    {
     "data": {
      "image/png": "[encoded data removed]",
      "text/plain": [
       "<Figure size 640x480 with 1 Axes>"
      ]
     },
     "metadata": {},
     "output_type": "display_data"
    }
   ],
   "source": [
    "#Plot the results\n",
    "\n",
    "import matplotlib.pyplot as plt\n",
    "import torch\n",
    "\n",
    "# Assuming 'model' is your trained model and 'noise' is the input for the model\n",
    "# Generating data\n",
    "noise = torch.normal(0.0, 1.0, size=(10000, 1))\n",
    "gen.eval()  # Set the gen to evaluation mode\n",
    "with torch.no_grad():  # Turn off gradients for evaluation\n",
    "    generated_data = gen(noise).detach().cpu().numpy()  # Convert to NumPy array\n",
    "\n",
    "# Plotting the histogram\n",
    "import matplotlib.pyplot as plt\n",
    "\n",
    "plt.hist(generated_data, bins=50, alpha=0.75)  # Adjust the number of bins as needed\n",
    "plt.title('Histogram of Generated Data')\n",
    "plt.xlabel('Data values')\n",
    "plt.ylabel('Frequency')\n",
    "plt.show()"
   ]
  },
  {
   "cell_type": "code",
   "execution_count": null,
   "metadata": {},
   "outputs": [],
   "source": []
  }
 ],
 "metadata": {
  "kernelspec": {
   "display_name": "base",
   "language": "python",
   "name": "python3"
  },
  "language_info": {
   "codemirror_mode": {
    "name": "ipython",
    "version": 3
   },
   "file_extension": ".py",
   "mimetype": "text/x-python",
   "name": "python",
   "nbconvert_exporter": "python",
   "pygments_lexer": "ipython3",
   "version": "3.10.9"
  }
 },
 "nbformat": 4,
 "nbformat_minor": 2
}
